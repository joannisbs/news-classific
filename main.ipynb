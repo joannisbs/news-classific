{
 "metadata": {
  "language_info": {
   "codemirror_mode": {
    "name": "ipython",
    "version": 3
   },
   "file_extension": ".py",
   "mimetype": "text/x-python",
   "name": "python",
   "nbconvert_exporter": "python",
   "pygments_lexer": "ipython3",
   "version": "3.8.10-final"
  },
  "orig_nbformat": 2,
  "kernelspec": {
   "name": "python3",
   "display_name": "Python 3.8.10 64-bit",
   "metadata": {
    "interpreter": {
     "hash": "df0893f56f349688326838aaeea0de204df53a132722cbd565e54b24a8fec5f6"
    }
   }
  }
 },
 "nbformat": 4,
 "nbformat_minor": 2,
 "cells": [
  {
   "cell_type": "code",
   "execution_count": 17,
   "metadata": {},
   "outputs": [
    {
     "output_type": "stream",
     "name": "stdout",
     "text": [
      "WARNING:tensorflow:From /home/joannis/.local/lib/python3.8/site-packages/tensorflow/python/ops/distributions/distribution.py:265: ReparameterizationType.__init__ (from tensorflow.python.ops.distributions.distribution) is deprecated and will be removed after 2019-01-01.\n",
      "Instructions for updating:\n",
      "The TensorFlow Distributions library has moved to TensorFlow Probability (https://github.com/tensorflow/probability). You should update all references to use `tfp.distributions` instead of `tf.distributions`.\n",
      "WARNING:tensorflow:From /home/joannis/.local/lib/python3.8/site-packages/tensorflow/python/ops/distributions/bernoulli.py:169: RegisterKL.__init__ (from tensorflow.python.ops.distributions.kullback_leibler) is deprecated and will be removed after 2019-01-01.\n",
      "Instructions for updating:\n",
      "The TensorFlow Distributions library has moved to TensorFlow Probability (https://github.com/tensorflow/probability). You should update all references to use `tfp.distributions` instead of `tf.distributions`.\n"
     ]
    }
   ],
   "source": [
    "import pandas as pd\n",
    "import numpy as np\n",
    "from utilsPtBr import Utils\n",
    "import tensorflow as tf\n",
    "\n",
    "dataPath = 'data/shortCorpus.csv'\n",
    "df_uf = pd.read_csv(dataPath, sep=';')\n",
    "\n",
    "util = Utils()"
   ]
  },
  {
   "cell_type": "code",
   "execution_count": 18,
   "metadata": {},
   "outputs": [],
   "source": [
    "dictDataframeTreino = {\n",
    "    \"tag\": [],\n",
    "    \"tokens\": [],\n",
    "    \"types\": [], \n",
    "    \"freq\": []\n",
    "}\n",
    "\n",
    "dictDataframeTeste = {\n",
    "    \"tag\": [],\n",
    "    \"tokens\": [],\n",
    "    \"types\": [], \n",
    "    \"freq\": []\n",
    "}\n",
    "\n",
    "formatTag = {\n",
    "    \"Publicação - Despacho / Decisão\": \"decisao\",\n",
    "    \"Publicação - Sentença\": \"sentenca\",\n",
    "    \"Publicação - Audiência\": \"audiencia\",\n",
    "}\n"
   ]
  },
  {
   "cell_type": "code",
   "execution_count": 22,
   "metadata": {},
   "outputs": [],
   "source": [
    "from random import randint\n",
    "def calcTestLineAleatory():\n",
    "    numberAleatory = randint(0,99);\n",
    "    if numberAleatory % 9 == 1: \n",
    "        return True;\n",
    "    return False;"
   ]
  },
  {
   "cell_type": "code",
   "execution_count": 23,
   "metadata": {},
   "outputs": [
    {
     "output_type": "stream",
     "name": "stdout",
     "text": [
      "          tag                                             tokens  \\\n0     decisao  [código:90503231, código, relacional:1, data:6...   \n1     decisao  [código:85908964, código, relacional:1, data:3...   \n2    sentenca  [código:103077923, código, relacional:1, data:...   \n3    sentenca  [código:92980142, código, relacional:1, data:2...   \n4      outros  [código:107142594, código, relacional:0, data:...   \n..        ...                                                ...   \n599   decisao  [cã³digo, 375881872, texto, cã³digo, relaciona...   \n600   decisao  [data, disponibilizacao, publicacao, fonte, of...   \n601   decisao  [data, disponibilizacao, publicacao, fonte, of...   \n602   decisao  [cã³digo, 376534571, texto, cã³digo, relaciona...   \n603   decisao  [data, disponibilizacao, publicacao, fonte, of...   \n\n                                                 types  \\\n0    {-n, relacional:1, cad, eduardo, 019.01.2008.0...   \n1    {desconstituicao, contrato, 0630, comarca, san...   \n2    {assinatura, 0755, 1, oficial, sentenca, dias....   \n3    {anotacoes, desbloqueios, data:20/5/2009, 96/9...   \n4    {estancia, código:107142594, solucao, quantum,...   \n..                                                 ...   \n599  {oab/rj-161883, inclusao, direcionamento, obse...   \n600  {data, 0185, quitacao, publicacao, manifestand...   \n601  {intimada, eduardo, neto, data, costa, 24/09/2...   \n602  {oab/rj-159027, direcionamento, neves, pacheco...   \n603  {hilton, eduardo, data, carlos, processo, 21/1...   \n\n                                                  freq  \n0    [eduardo, luiz, código:90503231, código, relac...  \n1    [eduardo, brock, código:85908964, código, rela...  \n2    [prazo, eduardo, luiz, brock, adv, s, dr, 48h,...  \n3    [processo, oab, sao, paulo, eduardo, luiz, bro...  \n4    [criminais, valor, juizados, especiais, membro...  \n..                                                 ...  \n599  [--, distribuicao, hs, segunda, quinta-feira, ...  \n600  [data, disponibilizacao, publicacao, fonte, of...  \n601  [s, dr, adv, x, data, disponibilizacao, public...  \n602  [data, 1, cã³digo, adv, s, dr, nextel, santa, ...  \n603  [dr, luiz, adv, s, miranda, eduardo, data, dis...  \n\n[604 rows x 4 columns]\n            tag                                             tokens  \\\n0       decisao  [código:86023255, código, relacional:75915, da...   \n1     audiencia  [código:71326228, código, relacional:0, data:5...   \n2       decisao  [código:86351306, código, relacional:1, data:7...   \n3       decisao  [código:92861830, código, relacional:68189, da...   \n4       decisao  [código:94845269, código, relacional:64161, da...   \n...         ...                                                ...   \n4688    decisao  [cã³digo, 521623732, texto, cã³digo, relaciona...   \n4689    decisao  [código:124356846, código, relacional:157997, ...   \n4690    decisao  [data, disponibilizacao, publicacao, fonte, of...   \n4691    decisao  [cã³digo, 377521036, texto, cã³digo, relaciona...   \n4692    decisao  [cã³digo, 510955524, texto, cã³digo, relaciona...   \n\n                                                  types  \\\n0     {sangung, lecilda, 02/04/2009, cad, eduardo, f...   \n1     {processo:5620120080249117/000000000, -n, 0895...   \n2     {desentranhamento, anotacoes, 69., digitei, de...   \n3     {15/05/2009, filipe, itaúna, silveira, thais, ...   \n4     {desde, desentranhamento, anotado, 466/08, int...   \n...                                                 ...   \n4688  {goias, direcionamento, 35746, observaã§ã£o, c...   \n4689  {raquel, recolher, observação:4, comarca, cust...   \n4690  {material, 137, custas, provimento, conforme, ...   \n4691  {direcionamento, 00529951720138190038, lojas, ...   \n4692  {direcionamento, 1âº, contrato, 176872/sp, dir...   \n\n                                                   freq  \n0     [dr, eduardo, brock, cordeiro, código:86023255...  \n1     [eletronica, vara, juizado, especial, civel, s...  \n2     [adv, oab/sp, sao, paulo, data, fls, autos, ed...  \n3     [oliveira, solano, camargo, autor, código:9286...  \n4     [fls, autor, nome, nao, representacao, peticao...  \n...                                                 ...  \n4688  [data, go, cã³digo, 07/02/2018, 3858, nr, ltda...  \n4689  [r, valor, conta, eduardo, luiz, brock, adv, s...  \n4690  [oab, pessoa, conforme, data, disponibilizacao...  \n4691  [data, 1, dr, cã³digo, adv, s, fabio, rivelli,...  \n4692  [data, cã³digo, 1, 07/12/2017, 1866, processo,...  \n\n[4693 rows x 4 columns]\n"
     ]
    }
   ],
   "source": [
    "# pre formatando texto e separando treino e teste\n",
    "for i in range (len(df_uf.index)):\n",
    "    tag = df_uf.loc[i].iloc[1]\n",
    "    tag = formatTag.get(tag, \"outros\")\n",
    "  \n",
    "    text = df_uf.loc[i].iloc[2]\n",
    "    tokens = util.tokenize(text)\n",
    "    freq = util.getPropoFreq(tokens)\n",
    "  \n",
    "    if calcTestLineAleatory():\n",
    "        dictDataframeTeste['tag'].append(tag)\n",
    "        dictDataframeTeste['tokens'].append(tokens)\n",
    "        dictDataframeTeste['types'].append(set(tokens))\n",
    "        dictDataframeTeste['freq'].append(freq)\n",
    "    else:\n",
    "        dictDataframeTreino['tag'].append(tag)\n",
    "        dictDataframeTreino['tokens'].append(tokens)\n",
    "        dictDataframeTreino['types'].append(set(tokens))\n",
    "        dictDataframeTreino['freq'].append(freq)\n",
    "  \n",
    "df_teste = pd.DataFrame(dictDataframeTeste)\n",
    "df_treino = pd.DataFrame(dictDataframeTreino)\n",
    "\n",
    "print(df_teste)\n",
    "print(df_treino)"
   ]
  },
  {
   "cell_type": "code",
   "execution_count": null,
   "metadata": {},
   "outputs": [],
   "source": []
  }
 ]
}