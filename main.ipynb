{
 "metadata": {
  "language_info": {
   "codemirror_mode": {
    "name": "ipython",
    "version": 3
   },
   "file_extension": ".py",
   "mimetype": "text/x-python",
   "name": "python",
   "nbconvert_exporter": "python",
   "pygments_lexer": "ipython3",
   "version": "3.8.10-final"
  },
  "orig_nbformat": 2,
  "kernelspec": {
   "name": "python3",
   "display_name": "Python 3",
   "language": "python"
  }
 },
 "nbformat": 4,
 "nbformat_minor": 2,
 "cells": [
  {
   "cell_type": "code",
   "execution_count": 1,
   "metadata": {},
   "outputs": [],
   "source": [
    "import pandas as pd\n",
    "import numpy as np\n",
    "from utilsPtBr import Utils\n",
    "from sklearnBagofWords import SklBoW\n",
    "\n",
    "dataPath = 'data/shortCorpus.csv'\n",
    "df_uf = pd.read_csv(dataPath, sep=';')\n",
    "\n",
    "util = Utils()\n",
    "sklBoW = SklBoW()"
   ]
  },
  {
   "cell_type": "code",
   "execution_count": 2,
   "metadata": {},
   "outputs": [],
   "source": [
    "dictDataframeTreino = {\n",
    "    \"tag\": [],\n",
    "    \"text\": [],\n",
    "}\n",
    "\n",
    "dictDataframeTeste = {\n",
    "    \"tag\": [],\n",
    "    \"text\": [], \n",
    "}\n",
    "\n",
    "formatTag = {\n",
    "    \"Publicação - Despacho / Decisão\": 1,\n",
    "    \"Publicação - Sentença\": 2,\n",
    "    \"Publicação - Audiência\": 3,\n",
    "}\n"
   ]
  },
  {
   "cell_type": "code",
   "execution_count": 3,
   "metadata": {},
   "outputs": [],
   "source": [
    "from random import randint\n",
    "def calcTestLineAleatory():\n",
    "    numberAleatory = randint(0,99);\n",
    "    if numberAleatory % 9 == 1: \n",
    "        return True;\n",
    "    return False;"
   ]
  },
  {
   "cell_type": "code",
   "execution_count": null,
   "metadata": {},
   "outputs": [],
   "source": []
  },
  {
   "cell_type": "code",
   "execution_count": 4,
   "metadata": {},
   "outputs": [],
   "source": [
    "# pre formatando texto e separando treino e teste\n",
    "vocabulary = {\n",
    "    'UNKNOWN': 'UNKNOWN'\n",
    "}\n",
    "\n",
    "for i in range (len(df_uf.index)):\n",
    "    tag = df_uf.loc[i].iloc[1]\n",
    "    tag = formatTag.get(tag, 4)\n",
    "  \n",
    "    text = df_uf.loc[i].iloc[2]\n",
    "    tokens = util.tokenize(text)\n",
    "    for tok in set(tokens):\n",
    "        if any(char.isdigit() for char in tok):\n",
    "            vocabulary['NUMBER'] = tok\n",
    "        else:  \n",
    "            vocabulary[tok] = tok\n",
    "    #freq = util.getPropoFreq(tokens)\n",
    "  \n",
    "    if calcTestLineAleatory():\n",
    "        dictDataframeTeste['tag'].append(tag)\n",
    "        dictDataframeTeste['text'].append(text)\n",
    "    else:\n",
    "        dictDataframeTreino['tag'].append(tag)\n",
    "        dictDataframeTreino['text'].append(text)\n",
    "\n",
    "\n"
   ]
  },
  {
   "cell_type": "code",
   "execution_count": 5,
   "metadata": {
    "tags": []
   },
   "outputs": [
    {
     "output_type": "stream",
     "name": "stdout",
     "text": [
      "size of vocanulary is 21217 words!\n0\n"
     ]
    }
   ],
   "source": [
    "print('size of vocanulary is ' + str(len(vocabulary.keys())) + ' words!')\n",
    "\n",
    "def get_word_2_index(vocab):\n",
    "    word2index = {}\n",
    "    for i,word in enumerate(vocab):\n",
    "\n",
    "        if any(char.isdigit() for char in tok):\n",
    "            word2index['NUMBER'] = i \n",
    "        else: \n",
    "            word2index[word] = i\n",
    "    return word2index\n",
    "\n",
    "word2index = get_word_2_index(vocabulary.keys())\n",
    "\n",
    "print(word2index[\"UNKNOWN\"])\n",
    "def text_to_vector(tokens):\n",
    "    layer = np.zeros(len(vocabulary.keys()),dtype=float)\n",
    "    for word in tokens:\n",
    "        if word in vocabulary:\n",
    "            layer[word2index[word]] += 1\n",
    "        else:\n",
    "            layer[word2index[\"UNKNOWN\"]] += 1\n",
    "        \n",
    "    return layer"
   ]
  },
  {
   "cell_type": "code",
   "execution_count": 50,
   "metadata": {
    "tags": []
   },
   "outputs": [],
   "source": [
    "textsTreino = []\n",
    "tagsTreino = []\n",
    "textsTest = []\n",
    "tagsTest = []\n",
    "\n",
    "print(text_to_vector(dictDataframeTreino['text'][4]))\n",
    "\n",
    "for i in range (len(dictDataframeTreino['text'])):\n",
    "    textsTreino.append(text_to_vector(dictDataframeTreino['text'][i]))\n",
    "    tagsTreino.append(dictDataframeTreino['tag'][i])\n",
    "\n",
    "for i in range (len(dictDataframeTreino['text'])):\n",
    "    textsTest.append(text_to_vector(dictDataframeTeste['text'][i]))\n",
    "    tagsTest.append(dictDataframeTreino['tag'][i])\n",
    "\n",
    "\n",
    "print(len(texts))\n",
    "print(len(tags))\n"
   ]
  },
  {
   "cell_type": "code",
   "execution_count": null,
   "metadata": {},
   "outputs": [],
   "source": [
    "\n",
    "sklBoW.fitLinearRegretion(texts, tags)\n",
    "sklBoW.testLinearRegretion(texts, tags)\n",
    "\n"
   ]
  },
  {
   "cell_type": "code",
   "execution_count": 51,
   "metadata": {},
   "outputs": [],
   "source": [
    "#model.compile(loss=tf.keras.losses.BinaryCrossentropy(from_logits=True),\n",
    "              #optimizer=tf.keras.optimizers.Adam(1e-4),\n",
    "              #metrics=['accuracy'])\n",
    "model.compile(optimizer = 'sgd')"
   ]
  },
  {
   "cell_type": "code",
   "execution_count": 6,
   "metadata": {
    "tags": []
   },
   "outputs": [
    {
     "output_type": "stream",
     "name": "stdout",
     "text": [
      "[1426.    0.    0. ...    0.    0.    0.]\n",
      "4702\n",
      "4702\n"
     ]
    }
   ],
   "source": [
    "\n",
    "\n",
    "#textTensor = tf.Tensor(texts, [len(dictDataframeTreino['text']) ,len(vocabulary.keys())], dtype='float32')\n",
    "#tagsTensor = tf.Tensor(tags, [len(dictDataframeTreino['text']) , 4], dtype='float32')\n",
    "#print(texts)\n",
    "\n",
    "#history = model.fit(np.array(texts), np.array(tags), epochs=10)"
   ]
  },
  {
   "cell_type": "code",
   "execution_count": 7,
   "metadata": {},
   "outputs": [
    {
     "output_type": "stream",
     "name": "stdout",
     "text": [
      "Cross Validation Scores:\nNorm:   43.619%\n"
     ]
    },
    {
     "output_type": "execute_result",
     "data": {
      "text/plain": [
       "LogisticRegression()"
      ]
     },
     "metadata": {},
     "execution_count": 7
    }
   ],
   "source": [
    "import sklearn as skl\n",
    "from sklearn import model_selection\n",
    "from sklearn import linear_model\n",
    "from sklearn import neighbors\n",
    "\n",
    "model_LR = skl.linear_model.LogisticRegression()\n",
    "\n",
    "Kfold = skl.model_selection.KFold(n_splits=10, shuffle=True, random_state=5)\n",
    "lr_results = skl.model_selection.cross_val_score(model_LR, texts, tags, cv=Kfold)\n",
    "\n",
    "print('Cross Validation Scores:')\n",
    "print(f'Norm:   { lr_results.mean()*100:.3f}%')\n",
    "\n",
    "model_LR.fit(texts, tags)\n",
    "\n"
   ]
  },
  {
   "cell_type": "code",
   "execution_count": null,
   "metadata": {},
   "outputs": [],
   "source": []
  }
 ]
}