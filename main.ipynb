{
 "metadata": {
  "language_info": {
   "codemirror_mode": {
    "name": "ipython",
    "version": 3
   },
   "file_extension": ".py",
   "mimetype": "text/x-python",
   "name": "python",
   "nbconvert_exporter": "python",
   "pygments_lexer": "ipython3",
   "version": "3.8.10-final"
  },
  "orig_nbformat": 2,
  "kernelspec": {
   "name": "python3",
   "display_name": "Python 3",
   "language": "python"
  }
 },
 "nbformat": 4,
 "nbformat_minor": 2,
 "cells": [
  {
   "cell_type": "code",
   "execution_count": 1,
   "metadata": {},
   "outputs": [],
   "source": [
    "import pandas as pd\n",
    "import numpy as np\n",
    "from utilsPtBr import Utils\n",
    "import tensorflow as tf\n",
    "\n",
    "dataPath = 'data/shortCorpus.csv'\n",
    "df_uf = pd.read_csv(dataPath, sep=';')\n",
    "\n",
    "util = Utils()"
   ]
  },
  {
   "cell_type": "code",
   "execution_count": 2,
   "metadata": {},
   "outputs": [],
   "source": [
    "dictDataframeTreino = {\n",
    "    \"tag\": [],\n",
    "    \"text\": [],\n",
    "}\n",
    "\n",
    "dictDataframeTeste = {\n",
    "    \"tag\": [],\n",
    "    \"text\": [], \n",
    "}\n",
    "\n",
    "formatTag = {\n",
    "    \"Publicação - Despacho / Decisão\": [ 1, 0, 0, 0 ],\n",
    "    \"Publicação - Sentença\": [ 0, 1, 0, 0 ],\n",
    "    \"Publicação - Audiência\": [ 0, 0, 1, 0 ],\n",
    "}\n"
   ]
  },
  {
   "cell_type": "code",
   "execution_count": 3,
   "metadata": {},
   "outputs": [],
   "source": [
    "from random import randint\n",
    "def calcTestLineAleatory():\n",
    "    numberAleatory = randint(0,99);\n",
    "    if numberAleatory % 9 == 1: \n",
    "        return True;\n",
    "    return False;"
   ]
  },
  {
   "cell_type": "code",
   "execution_count": null,
   "metadata": {},
   "outputs": [],
   "source": []
  },
  {
   "cell_type": "code",
   "execution_count": 4,
   "metadata": {},
   "outputs": [],
   "source": [
    "# pre formatando texto e separando treino e teste\n",
    "vocabulary = {\n",
    "    'UNKNOWN': 'UNKNOWN'\n",
    "}\n",
    "\n",
    "for i in range (len(df_uf.index)):\n",
    "    tag = df_uf.loc[i].iloc[1]\n",
    "    tag = formatTag.get(tag, [ 0, 0, 0, 1 ])\n",
    "  \n",
    "    text = df_uf.loc[i].iloc[2]\n",
    "    tokens = util.tokenize(text)\n",
    "    for tok in set(tokens):\n",
    "        if any(char.isdigit() for char in tok):\n",
    "            vocabulary[tok] = tok\n",
    "        else:  \n",
    "            vocabulary['NUMBER'] = tok\n",
    "    #freq = util.getPropoFreq(tokens)\n",
    "  \n",
    "    if calcTestLineAleatory():\n",
    "        dictDataframeTeste['tag'].append(tag)\n",
    "        dictDataframeTeste['text'].append(text)\n",
    "    else:\n",
    "        dictDataframeTreino['tag'].append(tag)\n",
    "        dictDataframeTreino['text'].append(text)\n",
    "  \n",
    "df_teste = pd.DataFrame(dictDataframeTeste)\n",
    "df_treino = pd.DataFrame(dictDataframeTreino)\n",
    "\n"
   ]
  },
  {
   "cell_type": "code",
   "execution_count": 5,
   "metadata": {
    "tags": []
   },
   "outputs": [
    {
     "output_type": "stream",
     "name": "stdout",
     "text": [
      "size of vocanulary is 35392 words!\n"
     ]
    },
    {
     "output_type": "error",
     "ename": "KeyError",
     "evalue": "'UNKNOWN'",
     "traceback": [
      "\u001b[0;31m---------------------------------------------------------------------------\u001b[0m",
      "\u001b[0;31mKeyError\u001b[0m                                  Traceback (most recent call last)",
      "\u001b[0;32m<ipython-input-5-f9b9169d8d55>\u001b[0m in \u001b[0;36m<module>\u001b[0;34m\u001b[0m\n\u001b[1;32m     11\u001b[0m \u001b[0;34m\u001b[0m\u001b[0m\n\u001b[1;32m     12\u001b[0m \u001b[0mword2index\u001b[0m \u001b[0;34m=\u001b[0m \u001b[0mget_word_2_index\u001b[0m\u001b[0;34m(\u001b[0m\u001b[0mvocabulary\u001b[0m\u001b[0;34m.\u001b[0m\u001b[0mkeys\u001b[0m\u001b[0;34m(\u001b[0m\u001b[0;34m)\u001b[0m\u001b[0;34m)\u001b[0m\u001b[0;34m\u001b[0m\u001b[0;34m\u001b[0m\u001b[0m\n\u001b[0;32m---> 13\u001b[0;31m \u001b[0mprint\u001b[0m\u001b[0;34m(\u001b[0m\u001b[0mword2index\u001b[0m\u001b[0;34m[\u001b[0m\u001b[0;34m\"UNKNOWN\"\u001b[0m\u001b[0;34m]\u001b[0m\u001b[0;34m)\u001b[0m\u001b[0;34m\u001b[0m\u001b[0;34m\u001b[0m\u001b[0m\n\u001b[0m\u001b[1;32m     14\u001b[0m \u001b[0;32mdef\u001b[0m \u001b[0mtext_to_vector\u001b[0m\u001b[0;34m(\u001b[0m\u001b[0mtokens\u001b[0m\u001b[0;34m)\u001b[0m\u001b[0;34m:\u001b[0m\u001b[0;34m\u001b[0m\u001b[0;34m\u001b[0m\u001b[0m\n\u001b[1;32m     15\u001b[0m     \u001b[0mlayer\u001b[0m \u001b[0;34m=\u001b[0m \u001b[0mnp\u001b[0m\u001b[0;34m.\u001b[0m\u001b[0mzeros\u001b[0m\u001b[0;34m(\u001b[0m\u001b[0mlen\u001b[0m\u001b[0;34m(\u001b[0m\u001b[0mvocabulary\u001b[0m\u001b[0;34m.\u001b[0m\u001b[0mkeys\u001b[0m\u001b[0;34m(\u001b[0m\u001b[0;34m)\u001b[0m\u001b[0;34m)\u001b[0m\u001b[0;34m,\u001b[0m\u001b[0mdtype\u001b[0m\u001b[0;34m=\u001b[0m\u001b[0mfloat\u001b[0m\u001b[0;34m)\u001b[0m\u001b[0;34m\u001b[0m\u001b[0;34m\u001b[0m\u001b[0m\n",
      "\u001b[0;31mKeyError\u001b[0m: 'UNKNOWN'"
     ]
    }
   ],
   "source": [
    "print('size of vocanulary is ' + str(len(vocabulary.keys())) + ' words!')\n",
    "\n",
    "def get_word_2_index(vocab):\n",
    "    word2index = {}\n",
    "    for i,word in enumerate(vocab):\n",
    "        if any(char.isdigit() for char in tok):\n",
    "            word2index[word] = i + 1\n",
    "        else: \n",
    "            word2index['NUMBER'] = i \n",
    "    return word2index\n",
    "\n",
    "word2index = get_word_2_index(vocabulary.keys())\n",
    "print(word2index[\"UNKNOWN\"])\n",
    "def text_to_vector(tokens):\n",
    "    layer = np.zeros(len(vocabulary.keys()),dtype=float)\n",
    "    for word in tokens:\n",
    "        if word in vocabulary:\n",
    "            layer[word2index[word]] += 1\n",
    "        else:\n",
    "            layer[word2index[\"UNKNOWN\"]] += 1\n",
    "        \n",
    "    return layer"
   ]
  },
  {
   "cell_type": "code",
   "execution_count": 6,
   "metadata": {
    "tags": []
   },
   "outputs": [],
   "source": [
    "\n",
    "model = tf.keras.Sequential()\n",
    "#model.add(tf.layers.dense({units: 1, inputShape: [n_input]}))\n",
    "model.add(tf.keras.layers.Embedding(len(vocabulary.keys()), 64, mask_zero=True))\n",
    "model.add(tf.keras.layers.Bidirectional(tf.keras.layers.LSTM(64,  return_sequences=True)))\n",
    "model.add(tf.keras.layers.Bidirectional(tf.keras.layers.LSTM(32)))\n",
    "model.add(tf.keras.layers.Dense(64, activation='relu'))\n",
    "model.add(tf.keras.layers.Dropout(0.5))\n",
    "model.add(tf.keras.layers.Dense(1))"
   ]
  },
  {
   "cell_type": "code",
   "execution_count": 7,
   "metadata": {},
   "outputs": [],
   "source": [
    "model.compile(loss=tf.keras.losses.BinaryCrossentropy(from_logits=True),\n",
    "              optimizer=tf.keras.optimizers.Adam(1e-4),\n",
    "              metrics=['accuracy'])\n"
   ]
  },
  {
   "cell_type": "code",
   "execution_count": 8,
   "metadata": {
    "tags": []
   },
   "outputs": [
    {
     "output_type": "error",
     "ename": "KeyError",
     "evalue": "'UNKNOWN'",
     "traceback": [
      "\u001b[0;31m---------------------------------------------------------------------------\u001b[0m",
      "\u001b[0;31mKeyError\u001b[0m                                  Traceback (most recent call last)",
      "\u001b[0;32m<ipython-input-8-0792f70abd4a>\u001b[0m in \u001b[0;36m<module>\u001b[0;34m\u001b[0m\n\u001b[1;32m      4\u001b[0m \u001b[0;34m\u001b[0m\u001b[0m\n\u001b[1;32m      5\u001b[0m \u001b[0;32mfor\u001b[0m \u001b[0mi\u001b[0m \u001b[0;32min\u001b[0m \u001b[0mrange\u001b[0m \u001b[0;34m(\u001b[0m\u001b[0mlen\u001b[0m\u001b[0;34m(\u001b[0m\u001b[0mdictDataframeTreino\u001b[0m\u001b[0;34m[\u001b[0m\u001b[0;34m'text'\u001b[0m\u001b[0;34m]\u001b[0m\u001b[0;34m)\u001b[0m\u001b[0;34m)\u001b[0m\u001b[0;34m:\u001b[0m\u001b[0;34m\u001b[0m\u001b[0;34m\u001b[0m\u001b[0m\n\u001b[0;32m----> 6\u001b[0;31m     \u001b[0mtexts\u001b[0m\u001b[0;34m.\u001b[0m\u001b[0mappend\u001b[0m\u001b[0;34m(\u001b[0m\u001b[0mnp\u001b[0m\u001b[0;34m.\u001b[0m\u001b[0marray\u001b[0m\u001b[0;34m(\u001b[0m\u001b[0mtext_to_vector\u001b[0m\u001b[0;34m(\u001b[0m\u001b[0mdictDataframeTreino\u001b[0m\u001b[0;34m[\u001b[0m\u001b[0;34m'text'\u001b[0m\u001b[0;34m]\u001b[0m\u001b[0;34m[\u001b[0m\u001b[0mi\u001b[0m\u001b[0;34m]\u001b[0m\u001b[0;34m)\u001b[0m\u001b[0;34m)\u001b[0m\u001b[0;34m)\u001b[0m\u001b[0;34m\u001b[0m\u001b[0;34m\u001b[0m\u001b[0m\n\u001b[0m\u001b[1;32m      7\u001b[0m     \u001b[0mtags\u001b[0m\u001b[0;34m.\u001b[0m\u001b[0mappend\u001b[0m\u001b[0;34m(\u001b[0m\u001b[0mnp\u001b[0m\u001b[0;34m.\u001b[0m\u001b[0marray\u001b[0m\u001b[0;34m(\u001b[0m\u001b[0;34m(\u001b[0m\u001b[0mdictDataframeTreino\u001b[0m\u001b[0;34m[\u001b[0m\u001b[0;34m'tag'\u001b[0m\u001b[0;34m]\u001b[0m\u001b[0;34m[\u001b[0m\u001b[0mi\u001b[0m\u001b[0;34m]\u001b[0m\u001b[0;34m)\u001b[0m\u001b[0;34m)\u001b[0m\u001b[0;34m)\u001b[0m\u001b[0;34m\u001b[0m\u001b[0;34m\u001b[0m\u001b[0m\n\u001b[1;32m      8\u001b[0m \u001b[0;34m\u001b[0m\u001b[0m\n",
      "\u001b[0;32m<ipython-input-5-8d4449967ba0>\u001b[0m in \u001b[0;36mtext_to_vector\u001b[0;34m(tokens)\u001b[0m\n\u001b[1;32m     18\u001b[0m             \u001b[0mlayer\u001b[0m\u001b[0;34m[\u001b[0m\u001b[0mword2index\u001b[0m\u001b[0;34m[\u001b[0m\u001b[0mword\u001b[0m\u001b[0;34m]\u001b[0m\u001b[0;34m]\u001b[0m \u001b[0;34m+=\u001b[0m \u001b[0;36m1\u001b[0m\u001b[0;34m\u001b[0m\u001b[0;34m\u001b[0m\u001b[0m\n\u001b[1;32m     19\u001b[0m         \u001b[0;32melse\u001b[0m\u001b[0;34m:\u001b[0m\u001b[0;34m\u001b[0m\u001b[0;34m\u001b[0m\u001b[0m\n\u001b[0;32m---> 20\u001b[0;31m             \u001b[0mlayer\u001b[0m\u001b[0;34m[\u001b[0m\u001b[0mword2index\u001b[0m\u001b[0;34m[\u001b[0m\u001b[0;34m\"UNKNOWN\"\u001b[0m\u001b[0;34m]\u001b[0m\u001b[0;34m]\u001b[0m \u001b[0;34m+=\u001b[0m \u001b[0;36m1\u001b[0m\u001b[0;34m\u001b[0m\u001b[0;34m\u001b[0m\u001b[0m\n\u001b[0m\u001b[1;32m     21\u001b[0m \u001b[0;34m\u001b[0m\u001b[0m\n\u001b[1;32m     22\u001b[0m     \u001b[0;32mreturn\u001b[0m \u001b[0mlayer\u001b[0m\u001b[0;34m\u001b[0m\u001b[0;34m\u001b[0m\u001b[0m\n",
      "\u001b[0;31mKeyError\u001b[0m: 'UNKNOWN'"
     ]
    }
   ],
   "source": [
    "texts = []\n",
    "tags = []\n",
    "\n",
    "\n",
    "for i in range (len(dictDataframeTreino['text'])):\n",
    "    texts.append(np.array(text_to_vector(dictDataframeTreino['text'][i])))\n",
    "    tags.append(np.array((dictDataframeTreino['tag'][i])))\n",
    "\n",
    "#textTensor = tf.Tensor(texts, [len(dictDataframeTreino['text']) ,len(vocabulary.keys())], dtype='float32')\n",
    "#tagsTensor = tf.Tensor(tags, [len(dictDataframeTreino['text']) , 4], dtype='float32')\n",
    "\n",
    "history = model.fit(np.array(texts), np.array(tags), epochs=10)"
   ]
  },
  {
   "cell_type": "code",
   "execution_count": null,
   "metadata": {},
   "outputs": [],
   "source": []
  }
 ]
}